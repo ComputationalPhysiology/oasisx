{
 "cells": [
  {
   "cell_type": "markdown",
   "id": "56f11d55",
   "metadata": {
    "lines_to_next_cell": 2
   },
   "source": [
    "Copyright (C) 2022 Jørgen Schartum Dokken\n",
    "\n",
    "This file is part of Oasisx\n",
    "SPDX-License-Identifier:    MIT\n",
    "\n",
    "# Efficient assembly\n",
    "This demo illustrates the performance differences between matrix free and cached assembly\n",
    "for the Crank Nicholson time discretization with the implicit Adams-Bashforth linearization\n",
    "in the tentative velocity step of the Navier-Stokes Equation.\n",
    "\n",
    "We start by importing the necessary modules"
   ]
  },
  {
   "cell_type": "code",
   "execution_count": null,
   "id": "c6b27d05",
   "metadata": {},
   "outputs": [],
   "source": [
    "from typing import Optional"
   ]
  },
  {
   "cell_type": "code",
   "execution_count": null,
   "id": "3a65b3a4",
   "metadata": {},
   "outputs": [],
   "source": [
    "from mpi4py import MPI\n",
    "from petsc4py import PETSc"
   ]
  },
  {
   "cell_type": "code",
   "execution_count": null,
   "id": "08614902",
   "metadata": {},
   "outputs": [],
   "source": [
    "import dolfinx\n",
    "import dolfinx.fem.petsc\n",
    "import numpy as np\n",
    "import pandas\n",
    "import seaborn\n",
    "import ufl"
   ]
  },
  {
   "cell_type": "markdown",
   "id": "1e276a1a",
   "metadata": {
    "lines_to_next_cell": 2
   },
   "source": [
    "We define a function, that takes in a mesh, the order `P` of the Lagrange function space for the\n",
    "scalar component of the velocity field, the number of times we should time the assembly, and\n",
    "`jit_options` for just in time compilation of the vartiational forms.\n",
    "\n",
    "For the *Matrix-vector* strategy, we do only time the time it takes to modify the pre-assembled\n",
    "convection matrix, adding the scaled mass and stiffness matrices and computing the matrix vector\n",
    "product, as the matrix `A` is needed for the LHS assembly in the fractional step method.\n",
    "\n",
    "For the *Action strategy* we use `ufl.action` to create the variational form for the RHS\n",
    "vector, and use generated code for the assembly.\n",
    "\n",
    "This demo does not consider any Dirichet boundary conditions.\n",
    "\n",
    "We add some arbitrary data to the variables `dt`, `nu`, `u_1` and `u_ab`,\n",
    "as we are not solving a full problem here."
   ]
  },
  {
   "cell_type": "code",
   "execution_count": null,
   "id": "dbf03430",
   "metadata": {
    "lines_to_next_cell": 2
   },
   "outputs": [],
   "source": [
    "def assembly(mesh, P: int, repeats: int, jit_options: Optional[dict] = None):\n",
    "    V = dolfinx.fem.functionspace(mesh, (\"Lagrange\", int(P)))\n",
    "    dt = 0.5\n",
    "    nu = 0.3\n",
    "    u = ufl.TrialFunction(V)\n",
    "    v = ufl.TestFunction(V)\n",
    "\n",
    "    # Solution from previous time step\n",
    "    u_1 = dolfinx.fem.Function(V)\n",
    "    u_1.interpolate(lambda x: np.sin(x[0]) * np.cos(x[1]))\n",
    "\n",
    "    # Define variational forms\n",
    "    mass = ufl.inner(u, v) * ufl.dx\n",
    "    stiffness = ufl.inner(ufl.grad(u), ufl.grad(v)) * ufl.dx\n",
    "\n",
    "    u_ab = [dolfinx.fem.Function(V, name=f\"u_ab{i}\") for i in range(mesh.geometry.dim)]\n",
    "    convection = ufl.inner(ufl.dot(ufl.as_vector(u_ab), ufl.nabla_grad(u)), v) * ufl.dx\n",
    "    for u_abi in u_ab:\n",
    "        u_abi.interpolate(lambda x: x[0])\n",
    "\n",
    "    # Compile forms for matrix vector products\n",
    "    jit_options = {} if jit_options is None else jit_options\n",
    "    mass_form = dolfinx.fem.form(mass, jit_options=jit_options)\n",
    "    stiffness_form = dolfinx.fem.form(stiffness, jit_options=jit_options)\n",
    "    convection_form = dolfinx.fem.form(convection, jit_options=jit_options)\n",
    "\n",
    "    # Compile form for vector assembly (action)\n",
    "    dt_inv = dolfinx.fem.Constant(mesh, dolfinx.default_scalar_type(1.0 / dt))\n",
    "    dt_inv.name = \"dt_inv\"  # type: ignore[attr-defined]\n",
    "    nu_c = dolfinx.fem.Constant(mesh, dolfinx.default_scalar_type(nu))\n",
    "    nu_c.name = \"nu\"  # type: ignore[attr-defined]\n",
    "    lhs = dt_inv * mass - 0.5 * nu_c * stiffness - 0.5 * convection\n",
    "    lhs = dolfinx.fem.form(ufl.action(lhs, u_1), jit_options=jit_options)\n",
    "\n",
    "    # Assemble time independent matrices\n",
    "    # Mass matrix\n",
    "    M = dolfinx.fem.petsc.create_matrix(mass_form)\n",
    "    M.setOption(PETSc.Mat.Option.SYMMETRIC, True)  # type: ignore\n",
    "    M.setOption(PETSc.Mat.Option.SYMMETRY_ETERNAL, True)  # type: ignore\n",
    "    M.setOption(PETSc.Mat.Option.IGNORE_ZERO_ENTRIES, True)  # type: ignore\n",
    "    dolfinx.fem.petsc.assemble_matrix(M, mass_form)\n",
    "    M.assemble()\n",
    "    M.setOption(PETSc.Mat.Option.NEW_NONZERO_LOCATIONS, False)  # type: ignore\n",
    "\n",
    "    # Stiffness matrix\n",
    "    K = dolfinx.fem.petsc.create_matrix(stiffness_form)\n",
    "    K.setOption(PETSc.Mat.Option.SYMMETRIC, True)  # type: ignore\n",
    "    K.setOption(PETSc.Mat.Option.SYMMETRY_ETERNAL, True)  # type: ignore\n",
    "    K.setOption(PETSc.Mat.Option.IGNORE_ZERO_ENTRIES, True)  # type: ignore\n",
    "    dolfinx.fem.petsc.assemble_matrix(K, stiffness_form)\n",
    "    K.assemble()\n",
    "    K.setOption(PETSc.Mat.Option.NEW_NONZERO_LOCATIONS, False)  # type: ignore\n",
    "\n",
    "    # Create time dependent matrix (convection matrix)\n",
    "    A = dolfinx.fem.petsc.create_matrix(mass_form)\n",
    "    A.setOption(PETSc.Mat.Option.IGNORE_ZERO_ENTRIES, True)  # type: ignore\n",
    "\n",
    "    # Vector for matrix vector product\n",
    "    b = dolfinx.fem.Function(V)\n",
    "\n",
    "    t_matvec = np.zeros((repeats, mesh.comm.size), dtype=np.float64)\n",
    "    t_action = np.zeros((repeats, mesh.comm.size), dtype=np.float64)\n",
    "    N = mesh.topology.index_map(mesh.topology.dim).size_global\n",
    "    for i in range(repeats):\n",
    "        # Zero out time-dependent matrix\n",
    "        A.zeroEntries()\n",
    "\n",
    "        # Add convection term\n",
    "        dolfinx.fem.petsc.assemble_matrix(A, convection_form)\n",
    "        A.assemble()\n",
    "\n",
    "        # Do mat-vec operations\n",
    "        with dolfinx.common.Timer(f\"~{P} {i} {N} Matvec strategy\") as _:\n",
    "            A.scale(-0.5)\n",
    "            A.axpy(1.0 / dt, M)\n",
    "            A.axpy(-0.5 * nu, K)\n",
    "            A.mult(u_1.x.petsc_vec, b.x.petsc_vec)\n",
    "            b.x.scatter_forward()\n",
    "\n",
    "        # Compute the vector without using pre-generated matrices\n",
    "        b_d = dolfinx.fem.Function(V)\n",
    "        with dolfinx.common.Timer(f\"~{P} {i} {N} Action strategy\"):\n",
    "            dolfinx.fem.petsc.assemble_vector(b_d.x.petsc_vec, lhs)\n",
    "            b_d.x.scatter_reverse(dolfinx.la.InsertMode.add)\n",
    "            b_d.x.scatter_forward()\n",
    "        # Compare results\n",
    "        assert np.allclose(b.x.array, b_d.x.array)\n",
    "\n",
    "        # Get timings\n",
    "        matvec = dolfinx.common.timing(f\"~{P} {i} {N} Matvec strategy\")\n",
    "        assert matvec[0] == 1\n",
    "        action = dolfinx.common.timing(f\"~{P} {i} {N} Action strategy\")\n",
    "        assert action[0] == 1\n",
    "        t_matvec[i, :] = mesh.comm.allgather(matvec[1].total_seconds())\n",
    "        t_action[i, :] = mesh.comm.allgather(action[1].total_seconds())\n",
    "\n",
    "    return V.dofmap.index_map_bs * V.dofmap.index_map.size_global, t_matvec, t_action"
   ]
  },
  {
   "cell_type": "markdown",
   "id": "a0fbd52b",
   "metadata": {
    "lines_to_next_cell": 2
   },
   "source": [
    "We solve the problem on a unit cube that is split into tetrahedras with `Nx`,`Ny` and `Nx`\n",
    "tetrahera in the x, y and z-direction respectively."
   ]
  },
  {
   "cell_type": "code",
   "execution_count": null,
   "id": "a20cdb73",
   "metadata": {
    "lines_to_next_cell": 2
   },
   "outputs": [],
   "source": [
    "def run_parameter_sweep(\n",
    "    Nx: int, Ny: int, Nz: int, repeats: int, min_degree: int, max_degree: int\n",
    ") -> dict:\n",
    "    # Information regarding optimization flags can be found at:\n",
    "    # https://gcc.gnu.org/onlinedocs/gcc/Optimize-Options.html\n",
    "    jit_options = {\"cffi_extra_compile_args\": [\"-march=native\", \"-O3\"]}\n",
    "\n",
    "    mesh = dolfinx.mesh.create_unit_cube(MPI.COMM_WORLD, Nx, Ny, Nz)\n",
    "    Ps = np.arange(min_degree, max_degree + 1, dtype=np.int32)\n",
    "    j = 0\n",
    "    results = {}\n",
    "    for P in Ps:\n",
    "        dof, matvec, action = assembly(mesh, P, repeats=repeats, jit_options=jit_options)  # type:ignore\n",
    "        for row in matvec:\n",
    "            for process in row:\n",
    "                results[j] = {\n",
    "                    \"P\": P,\n",
    "                    \"num_dofs\": dof,\n",
    "                    \"method\": \"matvec\",\n",
    "                    \"time (s)\": process,\n",
    "                    \"procs\": MPI.COMM_WORLD.size,\n",
    "                }\n",
    "                j += 1\n",
    "        for row in action:\n",
    "            for process in row:\n",
    "                results[j] = {\n",
    "                    \"P\": P,\n",
    "                    \"num_dofs\": dof,\n",
    "                    \"method\": \"action\",\n",
    "                    \"time (s)\": process,\n",
    "                    \"procs\": MPI.COMM_WORLD.size,\n",
    "                }\n",
    "                j += 1\n",
    "    return results"
   ]
  },
  {
   "cell_type": "markdown",
   "id": "a596bd9b",
   "metadata": {},
   "source": [
    "We use `pandas` and `seaborn` to visualize the results"
   ]
  },
  {
   "cell_type": "code",
   "execution_count": null,
   "id": "5695a218",
   "metadata": {
    "lines_to_end_of_cell_marker": 2
   },
   "outputs": [],
   "source": [
    "def create_plot(results: dict, outfile: str):\n",
    "    if MPI.COMM_WORLD.rank == 0:\n",
    "        df = pandas.DataFrame.from_dict(results, orient=\"index\")\n",
    "        df[\"label\"] = (\n",
    "            \"P\"\n",
    "            + df[\"P\"].astype(str)\n",
    "            + \" \"\n",
    "            + df[\"num_dofs\"].astype(str)\n",
    "            + \" \\n Comms: \"\n",
    "            + df[\"procs\"].astype(str)\n",
    "        )\n",
    "        plot = seaborn.catplot(data=df, kind=\"swarm\", x=\"label\", y=\"time (s)\", hue=\"method\")\n",
    "        plot.set(yscale=\"log\")\n",
    "        import matplotlib.pyplot as plt\n",
    "\n",
    "        plt.grid()\n",
    "        plt.savefig(outfile)"
   ]
  },
  {
   "cell_type": "markdown",
   "id": "626bce0d",
   "metadata": {
    "lines_to_next_cell": 2
   },
   "source": [
    "We start by running the comparison for an increasing number of degrees of freedom on a fixed grid."
   ]
  },
  {
   "cell_type": "code",
   "execution_count": null,
   "id": "216373fd",
   "metadata": {},
   "outputs": [],
   "source": [
    "if __name__ == \"__main__\":\n",
    "    results_p = run_parameter_sweep(30, 25, 23, repeats=3, min_degree=1, max_degree=4)\n",
    "    create_plot(results_p, \"P_sweep.png\")"
   ]
  },
  {
   "cell_type": "markdown",
   "id": "70f0da1c",
   "metadata": {},
   "source": [
    "We observe that for all the runs, independent of the degree $P$, the *Action Strategy* is\n",
    "significantly faster than the"
   ]
  },
  {
   "cell_type": "markdown",
   "id": "14a6f4ba",
   "metadata": {},
   "source": [
    "We note that the run for $P=1$ is relatively small, and therefore run $P=1$ on a larger mesh"
   ]
  },
  {
   "cell_type": "code",
   "execution_count": null,
   "id": "47dc2965",
   "metadata": {},
   "outputs": [],
   "source": [
    "if __name__ == \"__main__\":\n",
    "    results_p1 = run_parameter_sweep(50, 40, 45, 3, 1, 1)\n",
    "    create_plot(results_p1, \"P1.png\")"
   ]
  },
  {
   "cell_type": "markdown",
   "id": "e022f63c",
   "metadata": {},
   "source": [
    "We observe that the run-time of both strategies for $P = 1$ are more or less the\n",
    "same for larger matrices."
   ]
  }
 ],
 "metadata": {
  "jupytext": {
   "cell_metadata_filter": "-all"
  },
  "kernelspec": {
   "display_name": "Python 3 (ipykernel)",
   "language": "python",
   "name": "python3"
  }
 },
 "nbformat": 4,
 "nbformat_minor": 5
}
