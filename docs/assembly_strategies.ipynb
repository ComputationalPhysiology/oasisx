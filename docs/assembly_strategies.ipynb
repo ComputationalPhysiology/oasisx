{
 "cells": [
  {
   "cell_type": "markdown",
   "id": "d83602ef",
   "metadata": {
    "lines_to_next_cell": 2
   },
   "source": [
    "Copyright (C) 2022 Jørgen Schartum Dokken\n",
    "\n",
    "This file is part of Oasisx\n",
    "SPDX-License-Identifier:    MIT\n",
    "\n",
    "# Efficient assembly\n",
    "This demo illustrates the performance differences between matrix free and cached assembly\n",
    "for the Crank Nicholson time discretization with the implicit Adams-Bashforth linearization\n",
    "in the tentative velocity step of the Navier-Stokes Equation.\n",
    "\n",
    "We start by importing the necessary modules"
   ]
  },
  {
   "cell_type": "code",
   "execution_count": 16,
   "id": "90c86f89",
   "metadata": {},
   "outputs": [],
   "source": [
    "import seaborn\n",
    "import pandas\n",
    "import dolfinx\n",
    "from mpi4py import MPI\n",
    "from petsc4py import PETSc\n",
    "import ufl\n",
    "import numpy as np"
   ]
  },
  {
   "cell_type": "markdown",
   "id": "92d9d132",
   "metadata": {},
   "source": [
    "We define a function, that takes in a mesh, the order `P` of the Lagrange function space for the\n",
    "scalar component of the velocity field, the number of times we should time the assembly, and\n",
    "`jit_options` for just in time compilation of the vartiational forms.\n",
    "\n",
    "For the *Matrix-vector* strategy, we do only time the time it takes to modify the pre-assembled\n",
    "convection matrix, adding the scaled mass and stiffness matrices and computing the matrix vector\n",
    "product, as the matrix `A` is needed for the LHS assembly in the fractional step method.\n",
    "\n",
    "For the *Action strategy* we use `ufl.action` to create the variational form for the RHS\n",
    "vector, and use generated code for the assembly.\n",
    "\n",
    "This demo does not consider any Dirichet boundary conditions.\n",
    "\n",
    "We add some arbitrary data to the variables `dt`, `nu`, `u_1` and `u_ab`,\n",
    "as we are not solving a full problem here."
   ]
  },
  {
   "cell_type": "code",
   "execution_count": 17,
   "id": "462f16d9",
   "metadata": {},
   "outputs": [],
   "source": [
    "def assembly(mesh, P: int, repeats: int, jit_options: dict = None):\n",
    "    V = dolfinx.fem.FunctionSpace(mesh, (\"CG\", int(P)))\n",
    "    dt = 0.5\n",
    "    nu = 0.3\n",
    "    u = ufl.TrialFunction(V)\n",
    "    v = ufl.TestFunction(V)\n",
    "\n",
    "    # Solution from previous time step\n",
    "    u_1 = dolfinx.fem.Function(V)\n",
    "    u_1.interpolate(lambda x: np.sin(x[0])*np.cos(x[1]))\n",
    "\n",
    "    # Define variational forms\n",
    "    mass = ufl.inner(u, v) * ufl.dx\n",
    "    stiffness = ufl.inner(ufl.grad(u), ufl.grad(v)) * ufl.dx\n",
    "\n",
    "    u_ab = [dolfinx.fem.Function(V, name=f\"u_ab{i}\") for i in range(mesh.geometry.dim)]\n",
    "    convection = ufl.inner(ufl.dot(ufl.as_vector(u_ab), ufl.nabla_grad(u)), v) * ufl.dx\n",
    "    for u_abi in u_ab:\n",
    "        u_abi.interpolate(lambda x: x[0])\n",
    "\n",
    "    # Compile forms for matrix vector products\n",
    "    jit_options = {} if jit_options is None else jit_options\n",
    "    mass_form = dolfinx.fem.form(mass, jit_options=jit_options)\n",
    "    stiffness_form = dolfinx.fem.form(stiffness, jit_options=jit_options)\n",
    "    convection_form = dolfinx.fem.form(convection, jit_options=jit_options)\n",
    "\n",
    "    # Compile form for vector assembly (action)\n",
    "    dt_inv = dolfinx.fem.Constant(mesh, 1./dt)\n",
    "    dt_inv.name = \"dt_inv\"\n",
    "    nu_c = dolfinx.fem.Constant(mesh, nu)\n",
    "    nu_c.name = \"nu\"\n",
    "    lhs = dt_inv * mass - 0.5 * nu_c * stiffness - 0.5*convection\n",
    "    lhs = dolfinx.fem.form(ufl.action(lhs, u_1), jit_options=jit_options)\n",
    "\n",
    "    # Assemble time independent matrices\n",
    "    # Mass matrix\n",
    "    M = dolfinx.fem.petsc.create_matrix(mass_form)\n",
    "    M.setOption(PETSc.Mat.Option.SYMMETRIC, True)\n",
    "    M.setOption(PETSc.Mat.Option.SYMMETRY_ETERNAL, True)\n",
    "    M.setOption(PETSc.Mat.Option.IGNORE_ZERO_ENTRIES, True)\n",
    "    dolfinx.fem.petsc.assemble_matrix(M, mass_form)\n",
    "    M.assemble()\n",
    "    M.setOption(PETSc.Mat.Option.NEW_NONZERO_LOCATIONS, False)\n",
    "\n",
    "    # Stiffness matrix\n",
    "    K = dolfinx.fem.petsc.create_matrix(stiffness_form)\n",
    "    K.setOption(PETSc.Mat.Option.SYMMETRIC, True)\n",
    "    K.setOption(PETSc.Mat.Option.SYMMETRY_ETERNAL, True)\n",
    "    K.setOption(PETSc.Mat.Option.IGNORE_ZERO_ENTRIES, True)\n",
    "    dolfinx.fem.petsc.assemble_matrix(K, stiffness_form)\n",
    "    K.assemble()\n",
    "    K.setOption(PETSc.Mat.Option.NEW_NONZERO_LOCATIONS, False)\n",
    "\n",
    "    # Create time dependent matrix (convection matrix)\n",
    "    A = dolfinx.fem.petsc.create_matrix(mass_form)\n",
    "    A.setOption(PETSc.Mat.Option.IGNORE_ZERO_ENTRIES, True)\n",
    "\n",
    "    # Vector for matrix vector product\n",
    "    b = dolfinx.fem.Function(V)\n",
    "\n",
    "    t_matvec = np.zeros((repeats, mesh.comm.size), dtype=np.float64)\n",
    "    t_action = np.zeros((repeats, mesh.comm.size), dtype=np.float64)\n",
    "    for i in range(repeats):\n",
    "        # Zero out time-dependent matrix\n",
    "        A.zeroEntries()\n",
    "\n",
    "        # Add convection term\n",
    "        dolfinx.fem.petsc.assemble_matrix(A, convection_form)\n",
    "        A.assemble()\n",
    "\n",
    "        # Do mat-vec operations\n",
    "        with dolfinx.common.Timer(f\"~{P} {i} Matvec strategy\") as _:\n",
    "            A.scale(-0.5)\n",
    "            A.axpy(1./dt, M)\n",
    "            A.axpy(-0.5*nu, K)\n",
    "            A.mult(u_1.vector, b.vector)\n",
    "            b.x.scatter_forward()\n",
    "\n",
    "        # Compute the vector without using pre-generated matrices\n",
    "        b_d = dolfinx.fem.Function(V)\n",
    "        with dolfinx.common.Timer(f\"~{P} {i} Action strategy\") as _:\n",
    "            dolfinx.fem.petsc.assemble_vector(b_d.vector, lhs)\n",
    "            b_d.x.scatter_reverse(dolfinx.la.ScatterMode.add)\n",
    "            b_d.x.scatter_forward()\n",
    "        # Compare results\n",
    "        assert np.allclose(b.x.array, b_d.x.array)\n",
    "\n",
    "        # Get timings\n",
    "        matvec = dolfinx.common.timing(f\"~{P} {i} Matvec strategy\")\n",
    "        action = dolfinx.common.timing(f\"~{P} {i} Action strategy\")\n",
    "        t_matvec[i, :] = mesh.comm.allgather(matvec[1])\n",
    "        t_action[i, :] = mesh.comm.allgather(action[1])\n",
    "\n",
    "    return V.dofmap.index_map_bs * V.dofmap.index_map.size_global, t_matvec, t_action"
   ]
  },
  {
   "cell_type": "markdown",
   "id": "3b0a0b5d",
   "metadata": {},
   "source": [
    "We solve the problem on a unit cube that is split into tetrahedras with `Nx`,`Ny` and `Nx`\n",
    "tetrahera in the x, y and z-direction respectively."
   ]
  },
  {
   "cell_type": "code",
   "execution_count": 18,
   "id": "c86e6970",
   "metadata": {},
   "outputs": [],
   "source": [
    "def run_parameter_sweep(Nx: int, Ny: int, Nz: int, repeats: int, min_degree: int,\n",
    "                        max_degree: int) -> dict:\n",
    "    # Information regarding optimization flags can be found at:\n",
    "    # https://gcc.gnu.org/onlinedocs/gcc/Optimize-Options.html\n",
    "    jit_options = {\"cffi_extra_compile_args\": [\"-march=native\", \"-O3\"]}\n",
    "\n",
    "    mesh = dolfinx.mesh.create_unit_cube(MPI.COMM_WORLD, Nx, Ny, Nz)\n",
    "    Ps = np.arange(min_degree, max_degree+1, dtype=np.int32)\n",
    "    j = 0\n",
    "    results = {}\n",
    "    for i, P in enumerate(Ps):\n",
    "        dof, matvec, action = assembly(mesh, P, repeats=repeats, jit_options=jit_options)\n",
    "        for row in matvec:\n",
    "            for process in row:\n",
    "                results[j] = {\"P\": P, \"num_dofs\": dof, \"method\":\n",
    "                              \"matvec\", \"time (s)\": process, \"procs\": MPI.COMM_WORLD.size}\n",
    "                j += 1\n",
    "        for row in action:\n",
    "            for process in row:\n",
    "                results[j] = {\"P\": P, \"num_dofs\": dof, \"method\":\n",
    "                              \"action\", \"time (s)\": process, \"procs\": MPI.COMM_WORLD.size}\n",
    "                j += 1\n",
    "    return results"
   ]
  },
  {
   "cell_type": "markdown",
   "id": "908edcc9",
   "metadata": {},
   "source": [
    "We use `pandas` and `seaborn` to visualize the results"
   ]
  },
  {
   "cell_type": "code",
   "execution_count": 19,
   "id": "256d2d4c",
   "metadata": {},
   "outputs": [],
   "source": [
    "\n",
    "def create_plot(results: dict, outfile: str):\n",
    "    if MPI.COMM_WORLD.rank == 0:\n",
    "        df = pandas.DataFrame.from_dict(results, orient=\"index\")\n",
    "        df[\"label\"] = \"P\" + df[\"P\"].astype(str) + \" \" + \\\n",
    "            df[\"num_dofs\"].astype(str) + \" \\n Comms: \" + df[\"procs\"].astype(str)\n",
    "        plot = seaborn.catplot(data=df, kind=\"swarm\",  x=\"label\", y=\"time (s)\", hue=\"method\")\n",
    "        plot.set(yscale=\"log\")\n",
    "        import matplotlib.pyplot as plt\n",
    "        plt.grid()\n",
    "        plt.savefig(outfile)"
   ]
  },
  {
   "cell_type": "markdown",
   "id": "9f10ca21",
   "metadata": {
    "lines_to_next_cell": 2
   },
   "source": [
    "We start by running the comparison for an increasing number of degrees of freedom on a fixed grid."
   ]
  },
  {
   "cell_type": "code",
   "execution_count": 20,
   "id": "55975cb0",
   "metadata": {},
   "outputs": [
    {
     "ename": "AttributeError",
     "evalue": "type object 'MatOption' has no attribute 'IS_SYMMETRIC'",
     "output_type": "error",
     "traceback": [
      "\u001b[0;31m---------------------------------------------------------------------------\u001b[0m",
      "\u001b[0;31mAttributeError\u001b[0m                            Traceback (most recent call last)",
      "Cell \u001b[0;32mIn[20], line 2\u001b[0m\n\u001b[1;32m      1\u001b[0m \u001b[39mif\u001b[39;00m \u001b[39m__name__\u001b[39m \u001b[39m==\u001b[39m \u001b[39m\"\u001b[39m\u001b[39m__main__\u001b[39m\u001b[39m\"\u001b[39m:\n\u001b[0;32m----> 2\u001b[0m     results_p \u001b[39m=\u001b[39m run_parameter_sweep(\u001b[39m30\u001b[39;49m, \u001b[39m25\u001b[39;49m, \u001b[39m23\u001b[39;49m, repeats\u001b[39m=\u001b[39;49m\u001b[39m3\u001b[39;49m, min_degree\u001b[39m=\u001b[39;49m\u001b[39m1\u001b[39;49m, max_degree\u001b[39m=\u001b[39;49m\u001b[39m4\u001b[39;49m)\n\u001b[1;32m      3\u001b[0m     create_plot(results_p, \u001b[39m\"\u001b[39m\u001b[39mP_sweep.png\u001b[39m\u001b[39m\"\u001b[39m)\n",
      "Cell \u001b[0;32mIn[18], line 12\u001b[0m, in \u001b[0;36mrun_parameter_sweep\u001b[0;34m(Nx, Ny, Nz, repeats, min_degree, max_degree)\u001b[0m\n\u001b[1;32m     10\u001b[0m results \u001b[39m=\u001b[39m {}\n\u001b[1;32m     11\u001b[0m \u001b[39mfor\u001b[39;00m i, P \u001b[39min\u001b[39;00m \u001b[39menumerate\u001b[39m(Ps):\n\u001b[0;32m---> 12\u001b[0m     dof, matvec, action \u001b[39m=\u001b[39m assembly(mesh, P, repeats\u001b[39m=\u001b[39;49mrepeats, jit_options\u001b[39m=\u001b[39;49mjit_options)\n\u001b[1;32m     13\u001b[0m     \u001b[39mfor\u001b[39;00m row \u001b[39min\u001b[39;00m matvec:\n\u001b[1;32m     14\u001b[0m         \u001b[39mfor\u001b[39;00m process \u001b[39min\u001b[39;00m row:\n",
      "Cell \u001b[0;32mIn[17], line 38\u001b[0m, in \u001b[0;36massembly\u001b[0;34m(mesh, P, repeats, jit_options)\u001b[0m\n\u001b[1;32m     35\u001b[0m \u001b[39m# Assemble time independent matrices\u001b[39;00m\n\u001b[1;32m     36\u001b[0m \u001b[39m# Mass matrix\u001b[39;00m\n\u001b[1;32m     37\u001b[0m M \u001b[39m=\u001b[39m dolfinx\u001b[39m.\u001b[39mfem\u001b[39m.\u001b[39mpetsc\u001b[39m.\u001b[39mcreate_matrix(mass_form)\n\u001b[0;32m---> 38\u001b[0m M\u001b[39m.\u001b[39msetOption(PETSc\u001b[39m.\u001b[39;49mMat\u001b[39m.\u001b[39;49mOption\u001b[39m.\u001b[39;49mIS_SYMMETRIC, \u001b[39mTrue\u001b[39;00m)\n\u001b[1;32m     39\u001b[0m M\u001b[39m.\u001b[39msetOption(PETSc\u001b[39m.\u001b[39mMat\u001b[39m.\u001b[39mOption\u001b[39m.\u001b[39mSYMMETRY_ETERNAL, \u001b[39mTrue\u001b[39;00m)\n\u001b[1;32m     40\u001b[0m M\u001b[39m.\u001b[39msetOption(PETSc\u001b[39m.\u001b[39mMat\u001b[39m.\u001b[39mOption\u001b[39m.\u001b[39mIGNORE_ZERO_ENTRIES, \u001b[39mTrue\u001b[39;00m)\n",
      "\u001b[0;31mAttributeError\u001b[0m: type object 'MatOption' has no attribute 'IS_SYMMETRIC'"
     ]
    }
   ],
   "source": [
    "if __name__ == \"__main__\":\n",
    "    results_p = run_parameter_sweep(30, 25, 23, repeats=3, min_degree=1, max_degree=4)\n",
    "    create_plot(results_p, \"P_sweep.png\")"
   ]
  },
  {
   "cell_type": "markdown",
   "id": "8ca44045",
   "metadata": {},
   "source": [
    "We observe that for all the runs, independent of the degree $P$, the *Action Strategy* is\n",
    "significantly faster than the"
   ]
  },
  {
   "cell_type": "markdown",
   "id": "b4815cee",
   "metadata": {},
   "source": [
    "We note that the run for $P=1$ is relatively small, and therefore run $P=1$ on a larger mesh"
   ]
  },
  {
   "cell_type": "code",
   "execution_count": null,
   "id": "110b0570",
   "metadata": {},
   "outputs": [],
   "source": [
    "if __name__ == \"__main__\":\n",
    "    results_p1 = run_parameter_sweep(50, 40, 45, 3, 1, 1)\n",
    "    create_plot(results_p1, \"P1.png\")"
   ]
  },
  {
   "cell_type": "markdown",
   "id": "0084a2b5",
   "metadata": {},
   "source": [
    "We observe that the run-time of both strategies for $P = 1$ are more or less the\n",
    "same for larger matrices."
   ]
  }
 ],
 "metadata": {
  "jupytext": {
   "cell_metadata_filter": "-all"
  },
  "kernelspec": {
   "display_name": "Python 3 (ipykernel)",
   "language": "python",
   "name": "python3"
  },
  "language_info": {
   "codemirror_mode": {
    "name": "ipython",
    "version": 3
   },
   "file_extension": ".py",
   "mimetype": "text/x-python",
   "name": "python",
   "nbconvert_exporter": "python",
   "pygments_lexer": "ipython3",
   "version": "3.10.6"
  }
 },
 "nbformat": 4,
 "nbformat_minor": 5
}
